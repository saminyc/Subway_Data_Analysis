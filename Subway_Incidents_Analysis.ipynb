{
  "nbformat": 4,
  "nbformat_minor": 0,
  "metadata": {
    "colab": {
      "provenance": [],
      "toc_visible": true,
      "mount_file_id": "1zGPegi0sWRQy8VnnmCe_uW94UrXDpRqI",
      "authorship_tag": "ABX9TyN+5xEB4W65pspJ1knwoKI8",
      "include_colab_link": true
    },
    "kernelspec": {
      "name": "python3",
      "display_name": "Python 3"
    },
    "language_info": {
      "name": "python"
    }
  },
  "cells": [
    {
      "cell_type": "markdown",
      "metadata": {
        "id": "view-in-github",
        "colab_type": "text"
      },
      "source": [
        "<a href=\"https://colab.research.google.com/github/saminyc/Subway_Data_Analysis/blob/main/Subway_Incidents_Analysis.ipynb\" target=\"_parent\"><img src=\"https://colab.research.google.com/assets/colab-badge.svg\" alt=\"Open In Colab\"/></a>"
      ]
    },
    {
      "cell_type": "markdown",
      "source": [
        "# Subway Incident Analysis\n",
        "*   Data Source: [MTA Subway Major Incidents: Beginning 2020 - Janurary 2025\n",
        "](https://data.ny.gov/Transportation/MTA-Subway-Major-Incidents-Beginning-2020/j6d2-s8m2/about_data)\n",
        "*   Data Overview: https://data.ny.gov/api/views/j6d2-s8m2/files/4a8a54a1-49cd-41a7-abc0-d337c7dbba2c?download=true&filename=MTA_SubwayMajorIncidents_Overview.pdf"
      ],
      "metadata": {
        "id": "2SUwrCpuR69x"
      }
    },
    {
      "cell_type": "code",
      "execution_count": null,
      "metadata": {
        "id": "NBOWGxyeMwaL"
      },
      "outputs": [],
      "source": [
        "import pandas as pd\n",
        "import matplotlib.pyplot as plt"
      ]
    },
    {
      "cell_type": "markdown",
      "source": [
        "## File reading"
      ],
      "metadata": {
        "id": "8heOkOtfRtyk"
      }
    },
    {
      "cell_type": "code",
      "source": [
        "df = pd.read_csv('/content/drive/MyDrive/Data_Analysis_Projects/Subway_Incidents_Analysis/MTA_Subway_Major_Incidents__Beginning_2020_20250207.csv')\n",
        "df.head()"
      ],
      "metadata": {
        "id": "SlWgEHofNO4F"
      },
      "execution_count": null,
      "outputs": []
    },
    {
      "cell_type": "markdown",
      "source": [
        "## Data cleaning"
      ],
      "metadata": {
        "id": "sCEw5AKYNpCc"
      }
    },
    {
      "cell_type": "code",
      "source": [
        "df['division'].unique()"
      ],
      "metadata": {
        "id": "uIOMlOvDNs9f"
      },
      "execution_count": null,
      "outputs": []
    },
    {
      "cell_type": "code",
      "source": [
        "df['line'].unique()"
      ],
      "metadata": {
        "id": "MJ9hlzYZONn2"
      },
      "execution_count": null,
      "outputs": []
    },
    {
      "cell_type": "code",
      "source": [
        "df['category'].unique()"
      ],
      "metadata": {
        "id": "0texY5AhQ-My"
      },
      "execution_count": null,
      "outputs": []
    },
    {
      "cell_type": "code",
      "source": [
        "df['count'].unique()"
      ],
      "metadata": {
        "id": "E1Iu9emvRKFt"
      },
      "execution_count": null,
      "outputs": []
    },
    {
      "cell_type": "markdown",
      "source": [
        "### Changing non-null values"
      ],
      "metadata": {
        "id": "BUNq8nO-S6N4"
      }
    },
    {
      "cell_type": "code",
      "source": [
        "df['division'] = df['division'].fillna('Unlabeled')"
      ],
      "metadata": {
        "id": "p6_lAoaDTMiA"
      },
      "execution_count": null,
      "outputs": []
    },
    {
      "cell_type": "code",
      "source": [
        "df['division'].unique()"
      ],
      "metadata": {
        "id": "jNc0ZSOyXygk"
      },
      "execution_count": null,
      "outputs": []
    },
    {
      "cell_type": "code",
      "source": [
        "df['line'] = df['line'].fillna('Unlabeled')"
      ],
      "metadata": {
        "id": "g-P9IIwbZC5k"
      },
      "execution_count": null,
      "outputs": []
    },
    {
      "cell_type": "code",
      "source": [
        "df['line'].unique()"
      ],
      "metadata": {
        "id": "iqHLOfADZoXR"
      },
      "execution_count": null,
      "outputs": []
    },
    {
      "cell_type": "markdown",
      "source": [
        "### Changing values from binary"
      ],
      "metadata": {
        "id": "jeikOmyQaIbE"
      }
    },
    {
      "cell_type": "code",
      "source": [
        "df['day_type'].unique()"
      ],
      "metadata": {
        "id": "0nO7P1y_aO5F"
      },
      "execution_count": null,
      "outputs": []
    },
    {
      "cell_type": "code",
      "source": [
        "# if 1 change to 'weekday'\n",
        "# if 2 change it to 'weekend'\n",
        "df['day_type'] = df['day_type'].apply(lambda x: 'weekday' if x==1 else 'weekend')"
      ],
      "metadata": {
        "id": "ZG_2Y74Gtqcb"
      },
      "execution_count": null,
      "outputs": []
    },
    {
      "cell_type": "code",
      "source": [
        "df['day_type'].unique()"
      ],
      "metadata": {
        "id": "cZUFoBJtvfNb"
      },
      "execution_count": null,
      "outputs": []
    },
    {
      "cell_type": "markdown",
      "source": [
        "### Renaming columns"
      ],
      "metadata": {
        "id": "fXG5IfrwwO-d"
      }
    },
    {
      "cell_type": "code",
      "source": [
        "df = df.rename(columns={'day_type': 'weekday/weekend'})\n",
        "df"
      ],
      "metadata": {
        "id": "fbtWaULjwcYh"
      },
      "execution_count": null,
      "outputs": []
    },
    {
      "cell_type": "code",
      "source": [
        "df = df.rename(columns={'day_type': 'weekday/weekend'})\n",
        "df = df.rename(columns={'month': 'date'})"
      ],
      "metadata": {
        "id": "aj8witU6W8st"
      },
      "execution_count": null,
      "outputs": []
    },
    {
      "cell_type": "markdown",
      "source": [
        "## Analysis"
      ],
      "metadata": {
        "id": "JCeD7Nu4Vhql"
      }
    },
    {
      "cell_type": "markdown",
      "source": [
        "### Major incidents occurring per month"
      ],
      "metadata": {
        "id": "wer37blHWaT3"
      }
    },
    {
      "cell_type": "code",
      "source": [
        "df.date.unique()"
      ],
      "metadata": {
        "id": "kjzKRWLYWgkN"
      },
      "execution_count": null,
      "outputs": []
    },
    {
      "cell_type": "markdown",
      "source": [],
      "metadata": {
        "id": "gCmO-g6riOVo"
      }
    },
    {
      "cell_type": "code",
      "source": [
        "df['month'] = pd.to_datetime(df['date']).dt.month.astype(str).str.zfill(2)\n",
        "df.head()"
      ],
      "metadata": {
        "id": "sjJrb_Qia1O-"
      },
      "execution_count": null,
      "outputs": []
    },
    {
      "cell_type": "code",
      "source": [
        "df['year'] = pd.to_datetime(df['date']).dt.year\n",
        "df.head()"
      ],
      "metadata": {
        "id": "Ia_2DesxbMhE"
      },
      "execution_count": null,
      "outputs": []
    },
    {
      "cell_type": "code",
      "source": [
        "monthly_counts = df.groupby('month')['count'].sum().reset_index()\n",
        "monthly_counts"
      ],
      "metadata": {
        "id": "fdr9UUuIeEqV"
      },
      "execution_count": null,
      "outputs": []
    },
    {
      "cell_type": "code",
      "source": [
        "plt.plot(monthly_counts['month'], monthly_counts['count'], marker='o')\n",
        "plt.xlabel('Month')\n",
        "plt.ylabel('Count')\n",
        "plt.title('Monthly Incident Counts')\n",
        "plt.show()"
      ],
      "metadata": {
        "id": "NV2WC85ffGCM"
      },
      "execution_count": null,
      "outputs": []
    },
    {
      "cell_type": "markdown",
      "source": [
        "### Division based incident analysis"
      ],
      "metadata": {
        "id": "qo1cjDDVmLVC"
      }
    },
    {
      "cell_type": "code",
      "source": [
        "division_count = df.groupby('division')['count'].sum().reset_index()\n",
        "division_count"
      ],
      "metadata": {
        "id": "NiX0ZHBEmVdM"
      },
      "execution_count": null,
      "outputs": []
    },
    {
      "cell_type": "code",
      "source": [
        "fig, ax = plt.subplots()\n",
        "bar_labels = ['A Division', 'B Division','Unlabeled']\n",
        "bar_colors = ['tab:red', 'tab:blue', 'tab:grey']\n",
        "ax.bar( division_count['division'],division_count['count'], label=bar_labels, color=bar_colors)\n",
        "\n",
        "ax.set_ylabel('Count of incidents')\n",
        "ax.set_title('Count of incidents per division')\n",
        "\n",
        "plt.show()"
      ],
      "metadata": {
        "id": "6iaI-9c99tdZ"
      },
      "execution_count": null,
      "outputs": []
    },
    {
      "cell_type": "markdown",
      "source": [
        "### Subway lines experiencing the highest number of major incidents"
      ],
      "metadata": {
        "id": "cpbJ_10AAGTV"
      }
    },
    {
      "cell_type": "code",
      "source": [
        "df_count_sorted_desc = df.groupby(['line'])['count'].sum()\n",
        "# Sorting values from highest to lowest\n",
        "df_count_sorted_desc = df_count_sorted_desc.sort_values(ascending=False)\n",
        "df_count_sorted_desc"
      ],
      "metadata": {
        "id": "bHrrcygBARDg"
      },
      "execution_count": null,
      "outputs": []
    },
    {
      "cell_type": "code",
      "source": [
        "df_count_sorted_desc.plot(kind='barh', figsize=(10, 8))\n",
        "plt.title('Subway Line Incident Counts')\n",
        "plt.xlabel('Incident Count')\n",
        "plt.ylabel('Subway Lines')\n",
        "plt.show()"
      ],
      "metadata": {
        "id": "BT0-GndzENrP"
      },
      "execution_count": null,
      "outputs": []
    },
    {
      "cell_type": "code",
      "source": [
        "df_count_sorted_desc.head(1)"
      ],
      "metadata": {
        "id": "kdIEtiCAZ-8i"
      },
      "execution_count": null,
      "outputs": []
    },
    {
      "cell_type": "markdown",
      "source": [
        "### Subway lines prone to specific types of incidents"
      ],
      "metadata": {
        "id": "2DBhGtb8a5kJ"
      }
    },
    {
      "cell_type": "code",
      "source": [
        "df_category_accident_count = df.loc[df.groupby('line')['count'].idxmax(), ['line', 'category', 'count']].reset_index(drop=True)\n",
        "df_category_accident_count"
      ],
      "metadata": {
        "id": "nDPCmF8bbaz_"
      },
      "execution_count": null,
      "outputs": []
    },
    {
      "cell_type": "markdown",
      "source": [
        "### Incidents on weekdays vs weekends"
      ],
      "metadata": {
        "id": "GVCku0VVNg_V"
      }
    },
    {
      "cell_type": "code",
      "source": [
        "df=df.rename(columns={'weekday/weekend': 'day_of_week'})\n",
        "df.head()"
      ],
      "metadata": {
        "id": "GA_21HbJW8hX"
      },
      "execution_count": null,
      "outputs": []
    },
    {
      "cell_type": "code",
      "source": [
        "df_weekday_weekend = df.groupby(['day_of_week'])['count'].sum().reset_index()\n",
        "df_weekday_weekend"
      ],
      "metadata": {
        "id": "HxZ8MrTROPvA"
      },
      "execution_count": null,
      "outputs": []
    },
    {
      "cell_type": "code",
      "source": [
        "fig, ax = plt.subplots()\n",
        "bar_labels=['Weekday','Weekend']\n",
        "bar_colors=['tab:red','tab:blue']\n",
        "ax.bar(df_weekday_weekend['day_of_week'], df_weekday_weekend['count'], label=bar_labels, color=bar_colors)\n",
        "ax.set_ylabel('Count')\n",
        "ax.set_xlabel('Day of the week')\n",
        "ax.set_title('Incidents on weekday vs weekend')\n",
        "ax.legend(title='Weekday/Weekend')\n",
        "\n",
        "plt.show()"
      ],
      "metadata": {
        "id": "eyBvz0ypPuk_"
      },
      "execution_count": null,
      "outputs": []
    },
    {
      "cell_type": "markdown",
      "source": [
        "### Incident Categories"
      ],
      "metadata": {
        "id": "d9WFaBj1XRsy"
      }
    },
    {
      "cell_type": "code",
      "source": [
        "df_category_count = df.groupby(['category'])['count'].sum().reset_index()\n",
        "df_category_count = df_category_count.sort_values(ascending=False, by='count')\n",
        "df_category_count"
      ],
      "metadata": {
        "id": "R8yg9M6VZ2WY"
      },
      "execution_count": null,
      "outputs": []
    },
    {
      "cell_type": "code",
      "source": [
        "plt.barh(df_category_count['category'], df_category_count['count'])\n",
        "plt.xlabel('Incidents')\n",
        "plt.ylabel('Categories')\n",
        "plt.title('Incidents by Categories')\n",
        "\n",
        "plt.show()"
      ],
      "metadata": {
        "id": "vRqW3s0gofrZ"
      },
      "execution_count": null,
      "outputs": []
    },
    {
      "cell_type": "markdown",
      "source": [
        "### Subway incidents over the years"
      ],
      "metadata": {
        "id": "EwNefYcx5mqi"
      }
    },
    {
      "cell_type": "code",
      "source": [
        "df['year'].unique()"
      ],
      "metadata": {
        "id": "e3m_95zB52Py"
      },
      "execution_count": null,
      "outputs": []
    },
    {
      "cell_type": "code",
      "source": [
        "df_over_years = df.groupby(['year'])['count'].sum().reset_index()\n",
        "df_over_years"
      ],
      "metadata": {
        "id": "nLipdMj16Y6B"
      },
      "execution_count": null,
      "outputs": []
    },
    {
      "cell_type": "code",
      "source": [
        "plt.plot(df_over_years['year'], df_over_years['count'])\n",
        "plt.xticks(df_over_years['year'])\n",
        "plt.xlabel('Years')\n",
        "plt.ylabel('Incidents')\n",
        "plt.title('Subway Incidents Over The Years')\n",
        "plt.show()"
      ],
      "metadata": {
        "id": "12aEzvad8tWc"
      },
      "execution_count": null,
      "outputs": []
    }
  ]
}